{
 "cells": [
  {
   "cell_type": "code",
   "execution_count": 48,
   "metadata": {},
   "outputs": [],
   "source": [
    "import pandas as pd\n",
    "import numpy as np\n",
    "import re\n",
    "\n",
    "from keras.models import Sequential\n",
    "from keras.layers import Embedding, LSTM, Dense, Dropout\n",
    "\n",
    "from tensorflow.keras.preprocessing.text import Tokenizer\n",
    "from tensorflow.keras.preprocessing.sequence import pad_sequences\n",
    "\n",
    "from nltk.tokenize import word_tokenize\n",
    "\n",
    "from sklearn.model_selection import train_test_split\n",
    "from sklearn.preprocessing import LabelEncoder\n",
    "\n",
    "import matplotlib.pyplot as plt\n",
    "import seaborn as sns\n",
    "from sklearn.metrics import confusion_matrix, classification_report, ConfusionMatrixDisplay"
   ]
  },
  {
   "cell_type": "code",
   "execution_count": 1,
   "metadata": {},
   "outputs": [
    {
     "name": "stderr",
     "output_type": "stream",
     "text": [
      "[nltk_data] Downloading package punkt to /Users/behe/nltk_data...\n",
      "[nltk_data]   Package punkt is already up-to-date!\n"
     ]
    },
    {
     "data": {
      "text/plain": [
       "True"
      ]
     },
     "execution_count": 1,
     "metadata": {},
     "output_type": "execute_result"
    }
   ],
   "source": [
    "import nltk\n",
    "nltk.download('punkt')"
   ]
  },
  {
   "attachments": {},
   "cell_type": "markdown",
   "metadata": {},
   "source": [
    "### Load the dataset"
   ]
  },
  {
   "cell_type": "code",
   "execution_count": 5,
   "metadata": {},
   "outputs": [
    {
     "name": "stdout",
     "output_type": "stream",
     "text": [
      "   Unnamed: 0                                               text  \\\n",
      "0           0  Welcome to /r/depression's check-in post - a p...   \n",
      "1           1  We understand that most people who reply immed...   \n",
      "2           2  Anyone else just miss physical touch? I crave ...   \n",
      "3           3  I’m just so ashamed. Everyone and everything f...   \n",
      "4           4  I really need a friend. I don't even have a si...   \n",
      "\n",
      "                                               title  target  \n",
      "0  Regular check-in post, with information about ...       1  \n",
      "1  Our most-broken and least-understood rules is ...       1  \n",
      "2  I haven’t been touched, or even hugged, in so ...       1  \n",
      "3                    Being Depressed is Embarrassing       1  \n",
      "4  I'm desperate for a friend and to feel loved b...       1  \n",
      "Unnamed: 0      0\n",
      "text          350\n",
      "title           0\n",
      "target          0\n",
      "dtype: int64\n"
     ]
    }
   ],
   "source": [
    "df = pd.read_csv('data_to_be_cleansed.csv')\n",
    "print(df.head())\n",
    "\n",
    "print(df.isnull().sum())\n",
    "df.dropna(inplace=True)"
   ]
  },
  {
   "cell_type": "code",
   "execution_count": 6,
   "metadata": {},
   "outputs": [
    {
     "data": {
      "text/html": [
       "<div>\n",
       "<style scoped>\n",
       "    .dataframe tbody tr th:only-of-type {\n",
       "        vertical-align: middle;\n",
       "    }\n",
       "\n",
       "    .dataframe tbody tr th {\n",
       "        vertical-align: top;\n",
       "    }\n",
       "\n",
       "    .dataframe thead th {\n",
       "        text-align: right;\n",
       "    }\n",
       "</style>\n",
       "<table border=\"1\" class=\"dataframe\">\n",
       "  <thead>\n",
       "    <tr style=\"text-align: right;\">\n",
       "      <th></th>\n",
       "      <th>text</th>\n",
       "      <th>target</th>\n",
       "    </tr>\n",
       "  </thead>\n",
       "  <tbody>\n",
       "    <tr>\n",
       "      <th>0</th>\n",
       "      <td>Welcome to /r/depression's check-in post - a p...</td>\n",
       "      <td>1</td>\n",
       "    </tr>\n",
       "    <tr>\n",
       "      <th>1</th>\n",
       "      <td>We understand that most people who reply immed...</td>\n",
       "      <td>1</td>\n",
       "    </tr>\n",
       "    <tr>\n",
       "      <th>2</th>\n",
       "      <td>Anyone else just miss physical touch? I crave ...</td>\n",
       "      <td>1</td>\n",
       "    </tr>\n",
       "    <tr>\n",
       "      <th>3</th>\n",
       "      <td>I’m just so ashamed. Everyone and everything f...</td>\n",
       "      <td>1</td>\n",
       "    </tr>\n",
       "    <tr>\n",
       "      <th>4</th>\n",
       "      <td>I really need a friend. I don't even have a si...</td>\n",
       "      <td>1</td>\n",
       "    </tr>\n",
       "    <tr>\n",
       "      <th>...</th>\n",
       "      <td>...</td>\n",
       "      <td>...</td>\n",
       "    </tr>\n",
       "    <tr>\n",
       "      <th>5952</th>\n",
       "      <td>I’ve (24M) dealt with depression/anxiety for y...</td>\n",
       "      <td>4</td>\n",
       "    </tr>\n",
       "    <tr>\n",
       "      <th>5953</th>\n",
       "      <td>\"I don't feel very good, it's like I don't be...</td>\n",
       "      <td>4</td>\n",
       "    </tr>\n",
       "    <tr>\n",
       "      <th>5954</th>\n",
       "      <td>I can't sleep most of the nights, meds didn't ...</td>\n",
       "      <td>4</td>\n",
       "    </tr>\n",
       "    <tr>\n",
       "      <th>5955</th>\n",
       "      <td>Hi, all. I have to give a presentation at work...</td>\n",
       "      <td>4</td>\n",
       "    </tr>\n",
       "    <tr>\n",
       "      <th>5956</th>\n",
       "      <td>It's not about being scared I didn't lock the ...</td>\n",
       "      <td>4</td>\n",
       "    </tr>\n",
       "  </tbody>\n",
       "</table>\n",
       "<p>5607 rows × 2 columns</p>\n",
       "</div>"
      ],
      "text/plain": [
       "                                                   text  target\n",
       "0     Welcome to /r/depression's check-in post - a p...       1\n",
       "1     We understand that most people who reply immed...       1\n",
       "2     Anyone else just miss physical touch? I crave ...       1\n",
       "3     I’m just so ashamed. Everyone and everything f...       1\n",
       "4     I really need a friend. I don't even have a si...       1\n",
       "...                                                 ...     ...\n",
       "5952  I’ve (24M) dealt with depression/anxiety for y...       4\n",
       "5953   \"I don't feel very good, it's like I don't be...       4\n",
       "5954  I can't sleep most of the nights, meds didn't ...       4\n",
       "5955  Hi, all. I have to give a presentation at work...       4\n",
       "5956  It's not about being scared I didn't lock the ...       4\n",
       "\n",
       "[5607 rows x 2 columns]"
      ]
     },
     "execution_count": 6,
     "metadata": {},
     "output_type": "execute_result"
    }
   ],
   "source": [
    "df = df[['text', 'target']]\n",
    "df"
   ]
  },
  {
   "attachments": {},
   "cell_type": "markdown",
   "metadata": {},
   "source": [
    "### Prepare the dataset"
   ]
  },
  {
   "cell_type": "code",
   "execution_count": 10,
   "metadata": {},
   "outputs": [
    {
     "data": {
      "text/plain": [
       "'welcome to rdepressions checkin post a place to take a moment and share what is going on and how you are doing if you have an accomplishment you want to talk about these shouldnt be standalone posts in the sub as they violate the role model rule but are welcome here or are having a tough time but prefer not to make your own post this is a place you can share our subreddit rules are located in the sidebar you can also always access them at since all of them exist for important safety reasons we ask everyone here to read and follow them please click report on any harmful content you see here we always want to know and deal as soon as we can we also have several wikis there for help with finding and giving support provides guidance about what is and isnt a depressive disorder guidance on the complex nature of the illnesses that are usually grouped under the depression label and redirect information for common offtopic issues offers information on the nature and value of peer support for mentalhealth issues in general and lots of guidance for learning what is and isnt usually helpful in giving peer support ysk that the types of rule violations that we most frequently see interfering with people getting safe and relevant support here are people breaking the private contact rule you should never trust anyone who tries to get you into a private conversation in response to a post here see im here to help posts this shows that you dont understand the most basic principles of peer support especially selectivity the giving help wiki explains more about this role modelling ie achievement or advice posts this is an expertfree zone thats what peer support means rule we know that internet culture celebrate not just bragging about your achievements but bragging about your good intentions nothing like that is ever acceptable here content thats more about making a statement or casually polling the sub than seeking personal support or in a comment giving it rules and offtopic posts about difficult situations or circumstances including interpersonal losses grief sadness anger and other difficult emotions are not mental illnesses the what is depression wiki has suggestions for other places to post about these issues which are valid and serious but inappropriate here'"
      ]
     },
     "execution_count": 10,
     "metadata": {},
     "output_type": "execute_result"
    }
   ],
   "source": [
    "def clean_text(text):\n",
    "    text = re.sub(r'\\n', ' ', text)  # Replace newline characters with a space\n",
    "    text = re.sub(r'http\\S+', '', text)  # Remove URLs\n",
    "    text = re.sub(r'[^a-zA-Z\\s]', '', text)  # Remove punctuation and non-alphabetic characters\n",
    "    text = text.lower()  # Convert to lowercase\n",
    "    text = re.sub(r'\\s+', ' ', text).strip()  # Remove extra spaces and trim\n",
    "    return text\n",
    "\n",
    "df['text'] = df['text'].apply(clean_text)\n",
    "df['text'][0]"
   ]
  },
  {
   "cell_type": "code",
   "execution_count": 14,
   "metadata": {},
   "outputs": [],
   "source": [
    "def tokenize_text(text):\n",
    "    tokens = word_tokenize(text)\n",
    "    return tokens"
   ]
  },
  {
   "cell_type": "code",
   "execution_count": 17,
   "metadata": {},
   "outputs": [],
   "source": [
    "# Tokenize the text\n",
    "tokenizer = Tokenizer(num_words=10000)\n",
    "tokenizer.fit_on_texts(df['text'])\n",
    "sequences = tokenizer.texts_to_sequences(df['text'])\n",
    "\n",
    "# Pad the sequences\n",
    "max_len = 512\n",
    "X = pad_sequences(sequences, maxlen=max_len)"
   ]
  },
  {
   "cell_type": "code",
   "execution_count": 18,
   "metadata": {},
   "outputs": [
    {
     "data": {
      "text/plain": [
       "array([1, 1, 1, ..., 4, 4, 4])"
      ]
     },
     "execution_count": 18,
     "metadata": {},
     "output_type": "execute_result"
    }
   ],
   "source": [
    "label_encoder = LabelEncoder()\n",
    "y = label_encoder.fit_transform(df['target'])\n",
    "y"
   ]
  },
  {
   "cell_type": "code",
   "execution_count": 38,
   "metadata": {},
   "outputs": [],
   "source": [
    "model = Sequential()\n",
    "model.add(Embedding(input_dim=10000, output_dim=128, input_length=1000))\n",
    "model.add(LSTM(64, return_sequences=True))\n",
    "model.add(Dropout(0.5))\n",
    "model.add(LSTM(64))\n",
    "model.add(Dense(5, activation='softmax'))  # Assuming 5 classes\n",
    "\n",
    "model.compile(loss='sparse_categorical_crossentropy', optimizer='adam', metrics=['accuracy'])"
   ]
  },
  {
   "cell_type": "code",
   "execution_count": 39,
   "metadata": {},
   "outputs": [],
   "source": [
    "X_train, X_test, y_train, y_test = train_test_split(X, y, test_size=0.2, random_state=42)"
   ]
  },
  {
   "cell_type": "code",
   "execution_count": 42,
   "metadata": {},
   "outputs": [
    {
     "name": "stdout",
     "output_type": "stream",
     "text": [
      "Epoch 1/10\n",
      "\u001b[1m113/113\u001b[0m \u001b[32m━━━━━━━━━━━━━━━━━━━━\u001b[0m\u001b[37m\u001b[0m \u001b[1m44s\u001b[0m 387ms/step - accuracy: 0.9839 - loss: 0.0599 - val_accuracy: 0.6388 - val_loss: 1.7200\n",
      "Epoch 2/10\n",
      "\u001b[1m113/113\u001b[0m \u001b[32m━━━━━━━━━━━━━━━━━━━━\u001b[0m\u001b[37m\u001b[0m \u001b[1m44s\u001b[0m 390ms/step - accuracy: 0.9811 - loss: 0.0553 - val_accuracy: 0.5897 - val_loss: 1.8082\n",
      "Epoch 3/10\n",
      "\u001b[1m113/113\u001b[0m \u001b[32m━━━━━━━━━━━━━━━━━━━━\u001b[0m\u001b[37m\u001b[0m \u001b[1m47s\u001b[0m 413ms/step - accuracy: 0.9603 - loss: 0.1171 - val_accuracy: 0.6276 - val_loss: 1.7049\n",
      "Epoch 4/10\n",
      "\u001b[1m113/113\u001b[0m \u001b[32m━━━━━━━━━━━━━━━━━━━━\u001b[0m\u001b[37m\u001b[0m \u001b[1m48s\u001b[0m 427ms/step - accuracy: 0.9858 - loss: 0.0527 - val_accuracy: 0.6132 - val_loss: 1.7069\n",
      "Epoch 5/10\n",
      "\u001b[1m113/113\u001b[0m \u001b[32m━━━━━━━━━━━━━━━━━━━━\u001b[0m\u001b[37m\u001b[0m \u001b[1m48s\u001b[0m 426ms/step - accuracy: 0.9739 - loss: 0.0762 - val_accuracy: 0.6321 - val_loss: 1.7096\n",
      "Epoch 6/10\n",
      "\u001b[1m113/113\u001b[0m \u001b[32m━━━━━━━━━━━━━━━━━━━━\u001b[0m\u001b[37m\u001b[0m \u001b[1m45s\u001b[0m 400ms/step - accuracy: 0.9855 - loss: 0.0563 - val_accuracy: 0.6388 - val_loss: 1.8009\n",
      "Epoch 7/10\n",
      "\u001b[1m113/113\u001b[0m \u001b[32m━━━━━━━━━━━━━━━━━━━━\u001b[0m\u001b[37m\u001b[0m \u001b[1m45s\u001b[0m 398ms/step - accuracy: 0.9913 - loss: 0.0273 - val_accuracy: 0.6288 - val_loss: 1.9046\n",
      "Epoch 8/10\n",
      "\u001b[1m113/113\u001b[0m \u001b[32m━━━━━━━━━━━━━━━━━━━━\u001b[0m\u001b[37m\u001b[0m \u001b[1m45s\u001b[0m 398ms/step - accuracy: 0.9816 - loss: 0.0529 - val_accuracy: 0.6366 - val_loss: 1.8718\n",
      "Epoch 9/10\n",
      "\u001b[1m113/113\u001b[0m \u001b[32m━━━━━━━━━━━━━━━━━━━━\u001b[0m\u001b[37m\u001b[0m \u001b[1m46s\u001b[0m 410ms/step - accuracy: 0.9892 - loss: 0.0366 - val_accuracy: 0.6466 - val_loss: 1.9343\n",
      "Epoch 10/10\n",
      "\u001b[1m113/113\u001b[0m \u001b[32m━━━━━━━━━━━━━━━━━━━━\u001b[0m\u001b[37m\u001b[0m \u001b[1m47s\u001b[0m 414ms/step - accuracy: 0.9622 - loss: 0.1270 - val_accuracy: 0.6020 - val_loss: 1.9473\n"
     ]
    }
   ],
   "source": [
    "history = model.fit(X_train, y_train, epochs=15, batch_size=32, validation_split=0.2)"
   ]
  },
  {
   "cell_type": "code",
   "execution_count": 43,
   "metadata": {},
   "outputs": [
    {
     "name": "stdout",
     "output_type": "stream",
     "text": [
      "\u001b[1m36/36\u001b[0m \u001b[32m━━━━━━━━━━━━━━━━━━━━\u001b[0m\u001b[37m\u001b[0m \u001b[1m3s\u001b[0m 89ms/step - accuracy: 0.6355 - loss: 1.7742\n",
      "Test Accuracy: 0.6212\n"
     ]
    }
   ],
   "source": [
    "loss, accuracy = model.evaluate(X_test, y_test)\n",
    "print(f'Test Accuracy: {accuracy:.4f}')"
   ]
  },
  {
   "cell_type": "code",
   "execution_count": 50,
   "metadata": {},
   "outputs": [
    {
     "name": "stdout",
     "output_type": "stream",
     "text": [
      "\u001b[1m36/36\u001b[0m \u001b[32m━━━━━━━━━━━━━━━━━━━━\u001b[0m\u001b[37m\u001b[0m \u001b[1m3s\u001b[0m 83ms/step\n",
      "[[138  22   8  33  16]\n",
      " [ 11 165   8  70  12]\n",
      " [ 13  37 101  24  16]\n",
      " [ 13  32   5 166   6]\n",
      " [ 24  31   9  35 127]]\n",
      "              precision    recall  f1-score   support\n",
      "\n",
      "     Class 0       0.69      0.64      0.66       217\n",
      "     Class 1       0.57      0.62      0.60       266\n",
      "     Class 2       0.77      0.53      0.63       191\n",
      "     Class 3       0.51      0.75      0.60       222\n",
      "     Class 4       0.72      0.56      0.63       226\n",
      "\n",
      "    accuracy                           0.62      1122\n",
      "   macro avg       0.65      0.62      0.62      1122\n",
      "weighted avg       0.65      0.62      0.62      1122\n",
      "\n"
     ]
    },
    {
     "data": {
      "image/png": "[encoded data removed]",
      "text/plain": [
       "<Figure size 640x480 with 2 Axes>"
      ]
     },
     "metadata": {},
     "output_type": "display_data"
    }
   ],
   "source": [
    "y_pred = model.predict(X_test)\n",
    "y_pred_classes = np.argmax(y_pred, axis=1)\n",
    "\n",
    "conf_matrix = confusion_matrix(y_test, y_pred_classes, labels=[0, 1, 2, 3, 4])\n",
    "print(conf_matrix)\n",
    "\n",
    "disp = ConfusionMatrixDisplay(confusion_matrix=conf_matrix, display_labels=[0, 1, 2, 3, 4])\n",
    "disp.plot()\n",
    "plt.savefig('conf_mat2.png')\n",
    "\n",
    "class_report = classification_report(y_test, y_pred_classes, target_names=[f'Class {i}' for i in range(5)], output_dict=True)\n",
    "print(class_report)"
   ]
  },
  {
   "cell_type": "code",
   "execution_count": 52,
   "metadata": {},
   "outputs": [
    {
     "name": "stderr",
     "output_type": "stream",
     "text": [
      "/Users/behe/anaconda3/lib/python3.11/site-packages/seaborn/_oldcore.py:1765: FutureWarning: unique with argument that is not not a Series, Index, ExtensionArray, or np.ndarray is deprecated and will raise in a future version.\n",
      "  order = pd.unique(vector)\n"
     ]
    },
    {
     "data": {
      "image/png": "[encoded data removed]",
      "text/plain": [
       "<Figure size 1000x600 with 1 Axes>"
      ]
     },
     "metadata": {},
     "output_type": "display_data"
    }
   ],
   "source": [
    "precision_values = [class_report[f'Class {i}']['precision'] for i in range(5)]\n",
    "classes = ['Stress', 'Depression', 'Bipolar disorder', 'Personality disorder', 'Anxiety']\n",
    "\n",
    "plt.figure(figsize=(10, 6))\n",
    "sns.barplot(x=classes, y=precision_values, palette='viridis')\n",
    "plt.xlabel('Classes')\n",
    "plt.ylabel('Precision')\n",
    "plt.title('Precision for Each Class')\n",
    "plt.ylim(0, 1)\n",
    "plt.show()"
   ]
  }
 ],
 "metadata": {
  "kernelspec": {
   "display_name": "base",
   "language": "python",
   "name": "python3"
  },
  "language_info": {
   "codemirror_mode": {
    "name": "ipython",
    "version": 3
   },
   "file_extension": ".py",
   "mimetype": "text/x-python",
   "name": "python",
   "nbconvert_exporter": "python",
   "pygments_lexer": "ipython3",
   "version": "3.11.6"
  },
  "orig_nbformat": 4
 },
 "nbformat": 4,
 "nbformat_minor": 2
}
